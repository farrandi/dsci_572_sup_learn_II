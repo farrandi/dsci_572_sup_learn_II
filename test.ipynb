{
 "cells": [
  {
   "cell_type": "code",
   "execution_count": 1,
   "metadata": {},
   "outputs": [
    {
     "data": {
      "text/plain": [
       "False"
      ]
     },
     "execution_count": 1,
     "metadata": {},
     "output_type": "execute_result"
    }
   ],
   "source": [
    "1e16 + 2.0 == 1e16"
   ]
  },
  {
   "cell_type": "code",
   "execution_count": 3,
   "metadata": {},
   "outputs": [
    {
     "data": {
      "text/plain": [
       "True"
      ]
     },
     "execution_count": 3,
     "metadata": {},
     "output_type": "execute_result"
    }
   ],
   "source": [
    "1e16 + 1.0 + 1.0 == 1e16"
   ]
  },
  {
   "cell_type": "code",
   "execution_count": 4,
   "metadata": {},
   "outputs": [
    {
     "data": {
      "text/plain": [
       "True"
      ]
     },
     "execution_count": 4,
     "metadata": {},
     "output_type": "execute_result"
    }
   ],
   "source": [
    "1.0 + 2.0 + 3.0 == 6.0"
   ]
  },
  {
   "cell_type": "code",
   "execution_count": 6,
   "metadata": {},
   "outputs": [
    {
     "data": {
      "text/plain": [
       "False"
      ]
     },
     "execution_count": 6,
     "metadata": {},
     "output_type": "execute_result"
    }
   ],
   "source": [
    "0.1 + 0.1 + 0.1 == 0.3"
   ]
  },
  {
   "cell_type": "code",
   "execution_count": 1,
   "metadata": {},
   "outputs": [
    {
     "data": {
      "text/plain": [
       "False"
      ]
     },
     "execution_count": 1,
     "metadata": {},
     "output_type": "execute_result"
    }
   ],
   "source": [
    "0.1 + 0.2 + 0.3 == 0.6"
   ]
  },
  {
   "cell_type": "code",
   "execution_count": 3,
   "metadata": {},
   "outputs": [
    {
     "data": {
      "text/plain": [
       "True"
      ]
     },
     "execution_count": 3,
     "metadata": {},
     "output_type": "execute_result"
    }
   ],
   "source": [
    "1 + 2 == 3"
   ]
  },
  {
   "cell_type": "code",
   "execution_count": 1,
   "metadata": {},
   "outputs": [],
   "source": [
    "import numpy as np\n",
    "\n",
    "x = np.array([1, 2, 3])"
   ]
  },
  {
   "cell_type": "code",
   "execution_count": 4,
   "metadata": {},
   "outputs": [
    {
     "data": {
      "text/plain": [
       "array([1, 2, 3])"
      ]
     },
     "execution_count": 4,
     "metadata": {},
     "output_type": "execute_result"
    }
   ],
   "source": [
    "x"
   ]
  },
  {
   "cell_type": "code",
   "execution_count": 3,
   "metadata": {},
   "outputs": [
    {
     "data": {
      "text/plain": [
       "array([0, 0, 1])"
      ]
     },
     "execution_count": 3,
     "metadata": {},
     "output_type": "execute_result"
    }
   ],
   "source": [
    "(x > 2).astype(int)"
   ]
  },
  {
   "cell_type": "code",
   "execution_count": null,
   "metadata": {},
   "outputs": [],
   "source": []
  },
  {
   "cell_type": "markdown",
   "metadata": {},
   "source": [
    "Now, suppose your team has proposed the following five candidate models:\n",
    "\n",
    "Model 1. A given regression model with PriceDiff as a standalone regressor.\n",
    "\n",
    "Model 2. A given regression model with PriceDiff and STORE as standalone regressors.\n",
    "\n",
    "Model 3. A given regression model with PriceDiff, STORE, and PctDiscCH as standalone regressors.\n",
    "\n",
    "Model 4. A given regression model with PriceDiff, STORE, PctDiscCH, and PctDiscMM as standalone regressors.\n",
    "\n",
    "Model 5. A given regression model with PriceDiff, STORE, PctDiscCH, PctDiscMM, and LoyalCH as standalone regressors.\n",
    "\n",
    "What is the training sample's modelling equation for each of the five candidate models? To earn full marks on this question, define the necessary mathematical notation this exercise has not defined beforehand.\n",
    "\n",
    "1. Model 1: $h(x) = logit(\\pi_i) = \\beta_0 + \\beta_1 PriceDiff_i$\n",
    "2. Model 2: $h(x) = logit(\\pi_i) = \\beta_0 + \\beta_1 PriceDiff_i + \\beta_2 STORE_i$\n",
    "3. Model 3: $h(x) = logit(\\pi_i) = \\beta_0 + \\beta_1 PriceDiff_i + \\beta_2 STORE_i + \\beta_3 PctDiscCH_i$\n",
    "4. Model 4: $h(x) = logit(\\pi_i) = \\beta_0 + \\beta_1 PriceDiff_i + \\beta_2 STORE_i + \\beta_3 PctDiscCH_i + \\beta_4 PctDiscMM_i$\n",
    "5. Model 5: $h(x) = logit(\\pi_i) = \\beta_0 + \\beta_1 PriceDiff_i + \\beta_2 STORE_i + \\beta_3 PctDiscCH_i + \\beta_4 PctDiscMM_i + \\beta_5 LoyalCH_i$\n"
   ]
  }
 ],
 "metadata": {
  "kernelspec": {
   "display_name": "Python 3",
   "language": "python",
   "name": "python3"
  },
  "language_info": {
   "codemirror_mode": {
    "name": "ipython",
    "version": 3
   },
   "file_extension": ".py",
   "mimetype": "text/x-python",
   "name": "python",
   "nbconvert_exporter": "python",
   "pygments_lexer": "ipython3",
   "version": "3.11.6"
  }
 },
 "nbformat": 4,
 "nbformat_minor": 2
}
